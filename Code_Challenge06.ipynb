{
 "cells": [
  {
   "cell_type": "code",
   "execution_count": 21,
   "id": "a67fe8dd-d06c-4dba-a356-312b5d03cdd7",
   "metadata": {},
   "outputs": [],
   "source": [
    "# import libraries\n",
    "import numpy as np\n",
    "import pandas as pd\n",
    "\n",
    "import torch\n",
    "import torch.optim as optim\n",
    "import torch.nn as nn\n",
    "import torch.nn.functional as F\n",
    "from torch.utils.data import DataLoader,TensorDataset\n",
    "from sklearn.model_selection import train_test_split\n",
    "\n",
    "import matplotlib.pyplot as plt\n",
    "import matplotlib_inline.backend_inline\n",
    "matplotlib_inline.backend_inline.set_matplotlib_formats('svg')"
   ]
  },
  {
   "cell_type": "markdown",
   "id": "55e740d5-e8ee-4bda-8d43-3511f57aaa51",
   "metadata": {},
   "source": [
    "# Import and process the data"
   ]
  },
  {
   "cell_type": "code",
   "execution_count": 22,
   "id": "3e30b47d-d10f-4260-ad38-db6fdfc721c1",
   "metadata": {},
   "outputs": [],
   "source": [
    "# import dataset (comes with colab!)\n",
    "data = pd.read_csv('mnist_train_small .csv',delimiter=',')\n",
    "\n",
    "data_np = data.to_numpy()\n",
    "labels = data_np[:, 0]\n",
    "data = data_np[:, 1:]"
   ]
  },
  {
   "cell_type": "code",
   "execution_count": 23,
   "id": "04e97c4a-1d91-4966-905f-058e1b50c3ea",
   "metadata": {},
   "outputs": [],
   "source": [
    "# Normalize the data "
   ]
  },
  {
   "cell_type": "code",
   "execution_count": 24,
   "id": "d2c87b9b-587d-45a5-9e82-3cc2ee2f7f53",
   "metadata": {},
   "outputs": [],
   "source": [
    "# normalize the data to a range of [0 1]\n",
    "dataNorm = data / np.max(data)"
   ]
  },
  {
   "cell_type": "code",
   "execution_count": 25,
   "id": "cf124dfb-df27-40f5-ae8c-bc5bbc4d4ba0",
   "metadata": {},
   "outputs": [],
   "source": [
    "# Create train/test groups using DataLoader"
   ]
  },
  {
   "cell_type": "code",
   "execution_count": 26,
   "id": "f10b5554-5bc0-4a0f-9a40-04d5e8a61022",
   "metadata": {},
   "outputs": [],
   "source": [
    "# Step 1: convert to tensor\n",
    "dataT   = torch.tensor( dataNorm ).float()\n",
    "labelsT = torch.tensor( labels ).long() # long = int64\n",
    "\n",
    "# Step 2: use scikitlearn to split the data\n",
    "train_data,test_data, train_labels,test_labels = train_test_split(dataT, labelsT, test_size=.1)\n",
    "\n",
    "\n",
    "# Step 3: convert into PyTorch Datasets\n",
    "train_data = TensorDataset(train_data,train_labels)\n",
    "test_data  = TensorDataset(test_data,test_labels)\n",
    "\n",
    "# Step 4: translate into dataloader objects\n",
    "batchsize    = 32\n",
    "train_loader = DataLoader(train_data,batch_size=batchsize,shuffle=True,drop_last=True)\n",
    "test_loader  = DataLoader(test_data,batch_size=test_data.tensors[0].shape[0])"
   ]
  },
  {
   "cell_type": "code",
   "execution_count": 27,
   "id": "29da9b4b-4f4e-4a24-aa30-f80dcbc1453b",
   "metadata": {},
   "outputs": [],
   "source": [
    "# Create the DL model"
   ]
  },
  {
   "cell_type": "code",
   "execution_count": 28,
   "id": "83a05977-0a1c-4b15-b2c0-419e08c08c11",
   "metadata": {},
   "outputs": [],
   "source": [
    "def createTheMNISTNet(nUnits, nLayers):\n",
    "    class mnistNet(nn.Module):\n",
    "        def __init__(self):\n",
    "            super().__init__()\n",
    "            # create dictionary to store the layers\n",
    "            self.layers = nn.ModuleDict()\n",
    "            self.nLayers = nUnits  \n",
    "            \n",
    "            ### input layer\n",
    "            self.layers['input'] = nn.Linear(784, nUnits)\n",
    "            \n",
    "            ### hidden layers\n",
    "            for i in range(nLayers):\n",
    "                self.layers[f'hidden{i}'] = nn.Linear(nUnits, nUnits)\n",
    "            ### output layer\n",
    "            self.layers['output'] = nn.Linear(nUnits, 10)\n",
    "            \n",
    "        # forward pass reste identique\n",
    "        def forward(self, x):\n",
    "            # input layer\n",
    "            x = F.relu(self.layers['input'](x))\n",
    "            # hidden layers\n",
    "            for i in range(self.nLayers):\n",
    "                x = F.relu(self.layers[f'hidden{i}'](x))\n",
    "            # return output layer\n",
    "            x = self.layers['output'](x)\n",
    "            return torch.log_softmax(x, axis=1)\n",
    "    \n",
    "    # create the model instance\n",
    "    net = mnistNet()\n",
    "    \n",
    "    # loss function\n",
    "    lossfun = nn.NLLLoss()\n",
    "    # optimizer\n",
    "    optimizer = torch.optim.SGD(net.parameters(), lr=.01)\n",
    "    return net, lossfun, optimizer"
   ]
  },
  {
   "cell_type": "code",
   "execution_count": 29,
   "id": "ad6d0772-892c-42ed-977e-99c242540896",
   "metadata": {},
   "outputs": [
    {
     "data": {
      "text/plain": [
       "(mnistNet(\n",
       "   (layers): ModuleDict(\n",
       "     (input): Linear(in_features=784, out_features=12, bias=True)\n",
       "     (hidden0): Linear(in_features=12, out_features=12, bias=True)\n",
       "     (hidden1): Linear(in_features=12, out_features=12, bias=True)\n",
       "     (output): Linear(in_features=12, out_features=10, bias=True)\n",
       "   )\n",
       " ),\n",
       " NLLLoss(),\n",
       " SGD (\n",
       " Parameter Group 0\n",
       "     dampening: 0\n",
       "     differentiable: False\n",
       "     foreach: None\n",
       "     fused: None\n",
       "     lr: 0.01\n",
       "     maximize: False\n",
       "     momentum: 0\n",
       "     nesterov: False\n",
       "     weight_decay: 0\n",
       " ))"
      ]
     },
     "execution_count": 29,
     "metadata": {},
     "output_type": "execute_result"
    }
   ],
   "source": [
    "# generate an instance of the model and inspect it\n",
    "nUnitsPerLayer = 12\n",
    "nLayers = 2\n",
    "net = createTheMNISTNet(nUnitsPerLayer,nLayers)\n",
    "net"
   ]
  },
  {
   "cell_type": "code",
   "execution_count": null,
   "id": "ce06d69c-3f74-41dd-8234-7f7b12937ad2",
   "metadata": {},
   "outputs": [],
   "source": []
  },
  {
   "cell_type": "code",
   "execution_count": null,
   "id": "5bb0a79f-c95f-40e6-8d32-e7e4171939d5",
   "metadata": {},
   "outputs": [],
   "source": []
  }
 ],
 "metadata": {
  "kernelspec": {
   "display_name": "Python 3 (ipykernel)",
   "language": "python",
   "name": "python3"
  },
  "language_info": {
   "codemirror_mode": {
    "name": "ipython",
    "version": 3
   },
   "file_extension": ".py",
   "mimetype": "text/x-python",
   "name": "python",
   "nbconvert_exporter": "python",
   "pygments_lexer": "ipython3",
   "version": "3.12.3"
  }
 },
 "nbformat": 4,
 "nbformat_minor": 5
}
