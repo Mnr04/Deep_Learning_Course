{
 "cells": [
  {
   "cell_type": "code",
   "execution_count": 2,
   "id": "a8099703-14c0-41ce-a7bb-1b26dd28911d",
   "metadata": {},
   "outputs": [],
   "source": [
    "# import libraries\n",
    "import numpy as np\n",
    "import pandas as pd\n",
    "import torch\n",
    "import torch.nn as nn\n",
    "import matplotlib.pyplot as plt\n",
    "import matplotlib_inline.backend_inline\n",
    "matplotlib_inline.backend_inline.set_matplotlib_formats('svg')"
   ]
  },
  {
   "cell_type": "markdown",
   "id": "056df77b-64ab-470f-9f6b-03a625097d53",
   "metadata": {},
   "source": [
    "# Create the data"
   ]
  },
  {
   "cell_type": "code",
   "execution_count": 15,
   "id": "884ce98f-dea8-4123-8cb8-d5dd5adc5436",
   "metadata": {},
   "outputs": [
    {
     "name": "stdout",
     "output_type": "stream",
     "text": [
      "    A   B   C\n",
      "0 -10 -10 -20\n",
      "1  -9 -10 -19\n",
      "2  -8 -10 -18\n",
      "3  -7 -10 -17\n",
      "4  -6 -10 -16\n"
     ]
    }
   ],
   "source": [
    "A = np.arange(-10, 11, 1)\n",
    "B = np.arange(-10, 11, 1)\n",
    "\n",
    "#Création du maillage \n",
    "A_grid, B_grid = np.meshgrid(A, B)\n",
    "\n",
    "# Aplatir les grilles pour en faire des colonnes\n",
    "A_flat = A_grid.ravel()\n",
    "B_flat = B_grid.ravel()\n",
    "C_flat = A_flat + B_flat\n",
    "\n",
    "# Créer le DataFrame\n",
    "df = pd.DataFrame({\n",
    "    'A': A_flat,\n",
    "    'B': B_flat,\n",
    "    'C': C_flat\n",
    "})\n",
    "\n",
    "print(df.head()) "
   ]
  },
  {
   "cell_type": "code",
   "execution_count": 17,
   "id": "d79fddf5-6ce6-4a14-bbf9-eb2d5145c5e9",
   "metadata": {},
   "outputs": [
    {
     "data": {
      "text/plain": [
       "(441, 3)"
      ]
     },
     "execution_count": 17,
     "metadata": {},
     "output_type": "execute_result"
    }
   ],
   "source": [
    "df.shape"
   ]
  },
  {
   "cell_type": "code",
   "execution_count": null,
   "id": "a7d7617a-9ce8-430a-bcaa-4f8d59c1a624",
   "metadata": {},
   "outputs": [],
   "source": [
    "# Train / test Split and Data loaders"
   ]
  }
 ],
 "metadata": {
  "kernelspec": {
   "display_name": "Python 3 (ipykernel)",
   "language": "python",
   "name": "python3"
  },
  "language_info": {
   "codemirror_mode": {
    "name": "ipython",
    "version": 3
   },
   "file_extension": ".py",
   "mimetype": "text/x-python",
   "name": "python",
   "nbconvert_exporter": "python",
   "pygments_lexer": "ipython3",
   "version": "3.12.3"
  }
 },
 "nbformat": 4,
 "nbformat_minor": 5
}
