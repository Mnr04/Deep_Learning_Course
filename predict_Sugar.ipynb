{
 "cells": [
  {
   "cell_type": "code",
   "execution_count": 34,
   "id": "42ae9d66-e5c1-4907-9fd3-58a8e26ba885",
   "metadata": {},
   "outputs": [],
   "source": [
    "### import libraries\n",
    "\n",
    "# for DL modeling\n",
    "import torch\n",
    "import torch.nn as nn\n",
    "from torch.utils.data import DataLoader\n",
    "from sklearn.model_selection import train_test_split\n",
    "import torch.nn.functional as F\n",
    "from torch.utils.data import DataLoader,TensorDataset\n",
    "\n",
    "# for number-crunching\n",
    "import numpy as np\n",
    "import scipy.stats as stats\n",
    "\n",
    "# for dataset management\n",
    "import pandas as pd\n",
    "\n",
    "# for data visualization\n",
    "import matplotlib.pyplot as plt\n",
    "import seaborn as sns"
   ]
  },
  {
   "cell_type": "code",
   "execution_count": 35,
   "id": "b50e51f7-1537-406e-b05a-14ae74a573fc",
   "metadata": {},
   "outputs": [],
   "source": [
    "# import the data\n",
    "url = \"https://archive.ics.uci.edu/ml/machine-learning-databases/wine-quality/winequality-red.csv\"\n",
    "data = pd.read_csv(url,sep=';')\n",
    "data = data[data['total sulfur dioxide']<200] # drop a few outliers"
   ]
  },
  {
   "cell_type": "markdown",
   "id": "300fabac-85a0-4dba-9a5d-d22f06460b1d",
   "metadata": {},
   "source": [
    "# Normalize the data"
   ]
  },
  {
   "cell_type": "code",
   "execution_count": 36,
   "id": "7ea79936-fdca-453f-a53b-9ee998460f4f",
   "metadata": {},
   "outputs": [],
   "source": [
    "# z-score all columns except for quality\n",
    "cols2zscore = data.keys()\n",
    "cols2zscore = cols2zscore.drop('residual sugar')\n",
    "data[cols2zscore] = data[cols2zscore].apply(stats.zscore)\n",
    "\n",
    "# convert from pandas dataframe to tensor\n",
    "dataT  = torch.tensor( data[cols2zscore].values ).float()\n",
    "labels = torch.tensor( data['residual sugar'].values ).float()\n",
    "labels = labels[:,None] # transform to matrix"
   ]
  },
  {
   "cell_type": "markdown",
   "id": "53b2fbfd-ff51-40f6-b248-f53da5178ff1",
   "metadata": {},
   "source": [
    "# Split the data "
   ]
  },
  {
   "cell_type": "code",
   "execution_count": 37,
   "id": "6505c6cf-5722-44b5-b4b2-796d9744ba37",
   "metadata": {},
   "outputs": [],
   "source": [
    "# use scikitlearn to split the data\n",
    "train_data,test_data, train_labels,test_labels = train_test_split(dataT, labels, test_size=.2)\n",
    "\n",
    "# then convert them into PyTorch Datasets (note: already converted to tensors)\n",
    "train_data = torch.utils.data.TensorDataset(train_data,train_labels)\n",
    "test_data  = torch.utils.data.TensorDataset(test_data,test_labels)\n",
    "\n",
    "# finally, translate into dataloader objects\n",
    "batchsize    = 1\n",
    "train_loader = DataLoader(train_data,batch_size=batchsize,shuffle=True,drop_last=True)\n",
    "test_loader  = DataLoader(test_data,batch_size=batchsize)"
   ]
  },
  {
   "cell_type": "markdown",
   "id": "db237b77-457a-4c28-962c-fcdc3ddc0387",
   "metadata": {},
   "source": [
    "# Create The model"
   ]
  },
  {
   "cell_type": "code",
   "execution_count": 38,
   "id": "ecac03a0-fa1b-42f3-bba7-2806ff5e7513",
   "metadata": {},
   "outputs": [],
   "source": [
    "# create a class for the model\n",
    "\n",
    "class ANNwine(nn.Module):\n",
    "  def __init__(self):\n",
    "    super().__init__()\n",
    "\n",
    "    ### input layer\n",
    "    self.input = nn.Linear(11,16)\n",
    "    \n",
    "    ### hidden layers\n",
    "    self.fc1 = nn.Linear(16,32)\n",
    "    self.fc2 = nn.Linear(32,32)\n",
    "\n",
    "    ### output layer\n",
    "    self.output = nn.Linear(32,1)\n",
    "  \n",
    "  # forward pass\n",
    "  def forward(self, x):\n",
    "    x = F.relu(self.input(x))\n",
    "    x = F.relu(self.fc1(x)) # fully connected\n",
    "    x = F.relu(self.fc2(x))\n",
    "    return self.output(x) # Pas de fonction d'activation ici pour la régression\n"
   ]
  },
  {
   "cell_type": "markdown",
   "id": "a8eabdf0-420f-42df-9cae-edff22e9004e",
   "metadata": {},
   "source": [
    "# Train the model "
   ]
  },
  {
   "cell_type": "code",
   "execution_count": 39,
   "id": "bfda45af-fa34-4b1e-9908-faa7fd7bd1c0",
   "metadata": {},
   "outputs": [],
   "source": [
    "# Global parameters\n",
    "numepochs = 100"
   ]
  },
  {
   "cell_type": "code",
   "execution_count": 40,
   "id": "a81261f1-5406-49c6-b5d4-27d40f08be82",
   "metadata": {},
   "outputs": [],
   "source": [
    "def trainTheModel():\n",
    "  # loss function and optimizer\n",
    "  lossfun = nn.MSELoss()\n",
    "  optimizer = torch.optim.SGD(winenet.parameters(), lr=0.001)\n",
    "  \n",
    "  # initialize losses\n",
    "  losses   = torch.zeros(numepochs)\n",
    "  trainAcc = []\n",
    "  testAcc  = []\n",
    "  \n",
    "  # loop over epochs\n",
    "  for epochi in range(numepochs):\n",
    "    # switch on training mode\n",
    "    winenet.train()\n",
    "    \n",
    "    # loop over training data batches\n",
    "    batchAcc  = []\n",
    "    batchLoss = []\n",
    "    \n",
    "    for X,y in train_loader:\n",
    "      # forward pass and loss\n",
    "      yHat = winenet(X)\n",
    "      loss = lossfun(yHat, y)  # Correction ici: utiliser y au lieu de labels\n",
    "      \n",
    "      # backprop\n",
    "      optimizer.zero_grad()\n",
    "      loss.backward()\n",
    "      optimizer.step()\n",
    "      \n",
    "      # loss from this batch\n",
    "      batchLoss.append(loss.item())\n",
    "      \n",
    "      # Pour une régression, calculons l'erreur moyenne au lieu de l'exactitude\n",
    "      batchAcc.append(torch.mean(torch.abs(yHat-y)).item())\n",
    "    \n",
    "    # end of batch loop...\n",
    "    # now that we've trained through the batches, get their average training accuracy\n",
    "    trainAcc.append(np.mean(batchAcc))\n",
    "    \n",
    "    # and get average losses across the batches\n",
    "    losses[epochi] = np.mean(batchLoss)\n",
    "    \n",
    "    # test accuracy\n",
    "    winenet.eval()  # Correction: remplacé winesugar.eval() par winenet.eval()\n",
    "    \n",
    "    # Calculer la performance sur tout le jeu de test\n",
    "    test_loss = 0\n",
    "    test_mae = 0\n",
    "    num_batches = 0\n",
    "    \n",
    "    with torch.no_grad():  # deactivates autograd\n",
    "      for X_test, y_test in test_loader:\n",
    "          y_pred = winenet(X_test)\n",
    "          test_loss += lossfun(y_pred, y_test).item()\n",
    "          test_mae += torch.mean(torch.abs(y_pred - y_test)).item()\n",
    "          num_batches += 1\n",
    "    \n",
    "    test_loss /= num_batches\n",
    "    test_mae /= num_batches\n",
    "    testAcc.append(test_mae)\n",
    "    \n",
    "  # function output\n",
    "  return trainAcc, testAcc, losses\n"
   ]
  },
  {
   "cell_type": "code",
   "execution_count": 41,
   "id": "4d2864e5-d0d8-48a3-aaf4-efc74fb57bee",
   "metadata": {},
   "outputs": [],
   "source": [
    "#Initialiser le model\n",
    "winenet = ANNwine()\n",
    "\n",
    "# Lancer l'entraînement du modèle\n",
    "trainAcc, testAcc, losses = trainTheModel()\n"
   ]
  },
  {
   "cell_type": "code",
   "execution_count": 42,
   "id": "ee21ad1d-598b-4d2e-b590-5341729347c3",
   "metadata": {},
   "outputs": [
    {
     "data": {
      "image/png": "[encoded data removed]",
      "text/plain": [
       "<Figure size 1000x600 with 1 Axes>"
      ]
     },
     "metadata": {},
     "output_type": "display_data"
    }
   ],
   "source": [
    "import matplotlib.pyplot as plt\n",
    "\n",
    "# Affichage de la perte\n",
    "plt.figure(figsize=(10, 6))\n",
    "plt.plot(losses.detach().numpy(), 'o-', color='blue', linewidth=2)\n",
    "plt.xlabel('Époque')\n",
    "plt.ylabel('Perte (MSE)')\n",
    "plt.title('Évolution de la perte pendant l\\'entraînement')\n",
    "plt.grid(True, linestyle='--', alpha=0.7)\n",
    "plt.tight_layout()\n",
    "plt.show()"
   ]
  },
  {
   "cell_type": "code",
   "execution_count": null,
   "id": "e9c5f154-5f25-4989-aee2-623f3593c6e8",
   "metadata": {},
   "outputs": [],
   "source": []
  },
  {
   "cell_type": "code",
   "execution_count": null,
   "id": "a926c78e-dad7-41f4-949c-613f402680d0",
   "metadata": {},
   "outputs": [],
   "source": []
  }
 ],
 "metadata": {
  "kernelspec": {
   "display_name": "Python 3 (ipykernel)",
   "language": "python",
   "name": "python3"
  },
  "language_info": {
   "codemirror_mode": {
    "name": "ipython",
    "version": 3
   },
   "file_extension": ".py",
   "mimetype": "text/x-python",
   "name": "python",
   "nbconvert_exporter": "python",
   "pygments_lexer": "ipython3",
   "version": "3.12.3"
  }
 },
 "nbformat": 4,
 "nbformat_minor": 5
}
